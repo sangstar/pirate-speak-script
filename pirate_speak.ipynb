{
 "cells": [
  {
   "cell_type": "code",
   "execution_count": 1,
   "metadata": {},
   "outputs": [],
   "source": [
    "import requests\n",
    "import numpy as np\n",
    "import re\n",
    "import sys\n",
    "import os\n"
   ]
  },
  {
   "cell_type": "code",
   "execution_count": 2,
   "metadata": {},
   "outputs": [],
   "source": [
    "class piratey_speak:\n",
    "    \n",
    "    \n",
    "    def __init__(self):\n",
    "            print(\"To close, type: Exit\")\n",
    "            self.to_translate = \"\"\n",
    "            self.piratey_mappings = {\"Ahoy\":[\"Hello\",\"Hey\"],\"'n\":\"and\",'be':['is','am','are'], 'aye':['yes','yup','yeah'],'me':'my','ye':'you','hearties':['friends','companions','buddies'],'lad':['young man','young male'],'matey':['friend','dude','bro','mate'],'bounty':['reward', 'prize']}\n",
    "            while True:\n",
    "                self.to_translate = input(\"Translate: \")\n",
    "                if self.to_translate != \"Exit\":\n",
    "                    self.translation = self.replace_lingo()\n",
    "                    print('====> ',self.translation)\n",
    "                else:\n",
    "                    sys.exit()\n",
    "                \n",
    "        \n",
    "    def replace_lingo(self):\n",
    "        text = self.to_translate\n",
    "        words = self.piratey_mappings\n",
    "        text = re.findall(r\"[\\w']+|[.,!?;]\", text)\n",
    "        #print(text)\n",
    "        #print(text)\n",
    "        #print(words)\n",
    "        items = list(words.items())\n",
    "        #print(list(words.values()))\n",
    "        for subtext in text:\n",
    "            #print('subtext :', subtext)\n",
    "            if subtext.endswith(\"ing\"):\n",
    "                text_matchin_location = np.where([subtext.endswith(\"ing\") for subtext in text])[0][0]  # Hopefully the joke with the naming is ascertained here.. \n",
    "                text[text_matchin_location] = subtext.replace(\"ing\",\"in'\")\n",
    "            for word in words.values():\n",
    "                #print('entering loop.. current word : ', word)\n",
    "                if not isinstance(word, list):\n",
    "                    if word == subtext:\n",
    "                        #subtext = keep_letters(subtext)\n",
    "                        #print('allegedly ',word, ' is equal to ', subtext)\n",
    "                        #print('list(words.values()) = ',list(words.values())[4])\n",
    "                        match_location = np.where([word == value for value in list(words.values())])[0][0]\n",
    "                        text_match_location = np.where([subtext == word for subtext in text])[0][0]\n",
    "                        #print('text match : ',text_match_location)\n",
    "                        #print('match location : ', match_location)\n",
    "                        #print(list(words))\n",
    "                        pirate_word = list(words)[match_location]\n",
    "                        #print('pirate word : ',pirate_word)\n",
    "                        #print('word : ',word)\n",
    "                        #print(subtext)\n",
    "                        text[text_match_location] = pirate_word\n",
    "                else: \n",
    "                    if subtext in word:\n",
    "                        #subtext = keep_letters(subtext)\n",
    "                        word_location = np.where([subtext == option for option in word])[0][0]\n",
    "                        word = word[word_location]\n",
    "                        val_location = self.find_key_index(list(words.values()),subtext)\n",
    "                        #print('val location = ',val_location)\n",
    "                        #print('word locale : ', word_location)\n",
    "                        #print('allegedly ',word, ' is equal to ', subtext)\n",
    "                        #print('list(words.values()) = ',list(words.values()))\n",
    "                        text_match_location = np.where([subtext == word for subtext in text])[0][0]\n",
    "                        #print('text match : ',text_match_location)\n",
    "                        #print('match location : ', match_location)\n",
    "                        #print(list(words))\n",
    "                        pirate_word = list(words)[val_location]\n",
    "                        #print('pirate word : ',pirate_word)\n",
    "                        #print('word : ',word)\n",
    "                        #print(subtext)\n",
    "                        text[text_match_location] = pirate_word\n",
    "        full_text = \" \".join(text)\n",
    "        return full_text\n",
    "    \n",
    "    def find_key_index(self, keys, text):\n",
    "        #print('keys : ', keys)\n",
    "        #print('text to find : ', text)\n",
    "        i=0\n",
    "        for subkeys in keys:\n",
    "            #print('i = ', i)\n",
    "            #print('subkey = ',subkeys)\n",
    "            if (text == subsubkey for subsubkey in subkeys):\n",
    "                #print(np.where([text == subsubkey for subsubkey in subkeys])[0])\n",
    "                if len(np.where([text == subsubkey for subsubkey in subkeys])[0]) > 0:\n",
    "                    return i\n",
    "                else:\n",
    "                    i+=1\n",
    "                \n",
    "    "
   ]
  },
  {
   "cell_type": "code",
   "execution_count": 22,
   "metadata": {},
   "outputs": [
    {
     "name": "stdout",
     "output_type": "stream",
     "text": [
      "To close, type: Exit\n",
      "Translate: They are crazy.\n",
      "====>  They be crazy .\n",
      "Translate: Exit\n"
     ]
    },
    {
     "ename": "SystemExit",
     "evalue": "",
     "output_type": "error",
     "traceback": [
      "An exception has occurred, use %tb to see the full traceback.\n",
      "\u001b[0;31mSystemExit\u001b[0m\n"
     ]
    }
   ],
   "source": [
    "piratey_speak().translation"
   ]
  },
  {
   "cell_type": "code",
   "execution_count": null,
   "metadata": {},
   "outputs": [],
   "source": [
    "# To fix puncutuation: If next element isn't a letter, add it to the end of the last element"
   ]
  }
 ],
 "metadata": {
  "jupytext": {
   "formats": "ipynb,auto:percent"
  },
  "kernelspec": {
   "display_name": "Python 3",
   "language": "python",
   "name": "python3"
  },
  "language_info": {
   "codemirror_mode": {
    "name": "ipython",
    "version": 3
   },
   "file_extension": ".py",
   "mimetype": "text/x-python",
   "name": "python",
   "nbconvert_exporter": "python",
   "pygments_lexer": "ipython3",
   "version": "3.8.5"
  }
 },
 "nbformat": 4,
 "nbformat_minor": 4
}
